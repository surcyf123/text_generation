{
 "cells": [
  {
   "cell_type": "code",
   "execution_count": 31,
   "id": "eb740c69-2468-449a-84aa-d273e1c1902b",
   "metadata": {
    "tags": []
   },
   "outputs": [],
   "source": [
    "import pandas as pd\n",
    "import requests\n",
    "import json\n",
    "import time\n",
    "import openai"
   ]
  },
  {
   "cell_type": "code",
   "execution_count": 32,
   "id": "4a77e000-00c1-4420-a0de-6e31b7be1662",
   "metadata": {},
   "outputs": [],
   "source": [
    "only_prompts = pd.read_json(\"../dataset/only_prompts.json\")[0]\n",
    "N_PROMPTS_TO_PROCESS = 5"
   ]
  },
  {
   "cell_type": "code",
   "execution_count": 33,
   "id": "6fab9874-65f6-4455-a8bc-5d175a21e758",
   "metadata": {
    "tags": []
   },
   "outputs": [],
   "source": [
    "BASE_URL = \"http://213.173.102.136:10400\"\n",
    "\n",
    "VERIFY_TOKEN = \"SjhSXuEmZoW#%SD@#nAsd123bash#$%&@n\"\n",
    "def get_evaluation(json_payload):\n",
    "    response = requests.post(BASE_URL, json=json_payload)\n",
    "    return response.json()"
   ]
  },
  {
   "cell_type": "code",
   "execution_count": 61,
   "id": "d8349577-9bd6-4d29-9b9a-145281c445e9",
   "metadata": {
    "tags": []
   },
   "outputs": [],
   "source": [
    "def get_model_response(prompt, model_name=None):\n",
    "    start_time = time.time()\n",
    "    time.sleep(0.1)\n",
    "    response = \"error\"\n",
    "    end_time = time.time()\n",
    "    elapsed_time = end_time - start_time\n",
    "    return elapsed_time, response\n",
    "def generate_evaluation_json_list(prompts_df):\n",
    "    evaluations_json_list = []\n",
    "    for prompt in prompts_df[:N_PROMPTS_TO_PROCESS]:\n",
    "        elapsed_time, text_response = get_model_response(prompt)\n",
    "        json_payload = {\n",
    "            \"verify_token\": VERIFY_TOKEN,\n",
    "            \"prompt\": prompt,\n",
    "            \"responses\": [text_response,]\n",
    "        }\n",
    "        evaluation_json = get_evaluation(json_payload)\n",
    "        evaluation_json[\"time_elapsed_in_seconds\"] = elapsed_time\n",
    "        evaluations_json_list.append(evaluation_json)\n",
    "    return evaluations_json_list\n",
    "def generate_evaluation_df_from_json_list(evaluations_json_list):\n",
    "    evaluation_data_list = []\n",
    "    for evaluation_json in evaluations_json_list:\n",
    "        rewards_details = evaluation_json[\"reward_details\"]\n",
    "        reciprocate_reward_model=rewards_details[\"reciprocate_reward_model\"][0]\n",
    "        relevance_filter=rewards_details[\"relevance_filter\"][0]\n",
    "        rlhf_reward_model=rewards_details[\"rlhf_reward_model\"][0]\n",
    "        evaluation_data_list.append(\n",
    "            [\n",
    "                reciprocate_reward_model,\n",
    "                relevance_filter,\n",
    "                rlhf_reward_model,\n",
    "                evaluation_json[\"rewards\"][0],\n",
    "                evaluation_json[\"time_elapsed_in_seconds\"]\n",
    "            ]\n",
    "        )\n",
    "    evaluation_df= pd.DataFrame(evaluation_data_list, columns=[\"reciprocate_reward_model\", \"relevance_filter\", \"rlhf_reward_model\", \"rewards\", \"time_elapsed_in_seconds\"])\n",
    "    return evaluation_df"
   ]
  },
  {
   "cell_type": "code",
   "execution_count": null,
   "id": "822fba8b-0aba-464b-a074-b4085731cb98",
   "metadata": {
    "tags": []
   },
   "outputs": [],
   "source": []
  },
  {
   "cell_type": "code",
   "execution_count": 58,
   "id": "4c7d04a5-74f1-4004-b82a-adddcd1f9f50",
   "metadata": {
    "tags": []
   },
   "outputs": [],
   "source": []
  },
  {
   "cell_type": "code",
   "execution_count": null,
   "id": "3c0b05b7-0105-4fd3-a248-15bdd593b2db",
   "metadata": {},
   "outputs": [],
   "source": []
  }
 ],
 "metadata": {
  "kernelspec": {
   "display_name": "Python 3 (ipykernel)",
   "language": "python",
   "name": "python3"
  },
  "language_info": {
   "codemirror_mode": {
    "name": "ipython",
    "version": 3
   },
   "file_extension": ".py",
   "mimetype": "text/x-python",
   "name": "python",
   "nbconvert_exporter": "python",
   "pygments_lexer": "ipython3",
   "version": "3.10.6"
  }
 },
 "nbformat": 4,
 "nbformat_minor": 5
}
